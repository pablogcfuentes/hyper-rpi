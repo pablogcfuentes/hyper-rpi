{
 "cells": [
  {
   "cell_type": "markdown",
   "id": "7554de74",
   "metadata": {},
   "source": [
    "# Fase 1.5: Compilación desde el Hailo Archive Quantized Model a HEF (Hailo Executable Format)"
   ]
  },
  {
   "cell_type": "code",
   "execution_count": null,
   "id": "30debf7b",
   "metadata": {},
   "outputs": [],
   "source": [
    "# Imports\n",
    "\n",
    "from hailo_sdk_client import ClientRunner"
   ]
  },
  {
   "cell_type": "markdown",
   "id": "c92affe2",
   "metadata": {},
   "source": [
    "## 1. Compilar el modelo HAR cuantizado a modelo HEF ejecutable"
   ]
  },
  {
   "cell_type": "code",
   "execution_count": null,
   "id": "3e0699e8",
   "metadata": {},
   "outputs": [],
   "source": [
    "# Cargamos el modelo HAR cuantizado\n",
    "\n",
    "optimization_level = 4\n",
    "compression_level = 3\n",
    "model_name = \"../results/models/model_ResBaGAN_discriminator\"\n",
    "quantized_model_har_path = f\"{model_name}_quantized_model_o{optimization_level}_c{compression_level}.har\""
   ]
  },
  {
   "cell_type": "code",
   "execution_count": null,
   "id": "4bc151cb",
   "metadata": {},
   "outputs": [],
   "source": [
    "# Cargar el ClientRunner\n",
    "\n",
    "runner = ClientRunner(har=quantized_model_har_path)\n",
    "# By default it uses the hw_arch that is saved on the HAR. It is not recommended to change the hw_arch after Optimization."
   ]
  },
  {
   "cell_type": "code",
   "execution_count": null,
   "id": "37093bf7",
   "metadata": {},
   "outputs": [],
   "source": [
    "# Ejecutar el compilador\n",
    "\n",
    "hef = runner.compile()\n",
    "\n",
    "file_name = f\"{model_name}_o{optimization_level}_c{compression_level}.hef\"\n",
    "with open(file_name, \"wb\") as f:\n",
    "    f.write(hef)"
   ]
  },
  {
   "cell_type": "markdown",
   "id": "5b63ac18",
   "metadata": {},
   "source": [
    "### 1.1. Mostrar información sobre el modelo"
   ]
  },
  {
   "cell_type": "code",
   "execution_count": null,
   "id": "13265050",
   "metadata": {},
   "outputs": [],
   "source": [
    "# Guardar el HAR compilado\n",
    "\n",
    "har_path = f\"{model_name}_compiled_model_o{optimization_level}_c{compression_level}.har\"\n",
    "runner.save_har(har_path)"
   ]
  },
  {
   "cell_type": "code",
   "execution_count": null,
   "id": "de39d3eb",
   "metadata": {},
   "outputs": [],
   "source": [
    "# Mostrar los modelos\n",
    "\n",
    "!hailo profiler {\"../results/models/model_ResBaGAN_discriminator_compiled_model_o-100_c0.har\"}\n",
    "!hailo profiler {\"../results/models/model_ResBaGAN_discriminator_compiled_model_o0_c0.har\"}\n",
    "!hailo profiler {\"../results/models/model_ResBaGAN_discriminator_compiled_model_o1_c0.har\"}\n",
    "!hailo profiler {\"../results/models/model_ResBaGAN_discriminator_compiled_model_o2_c0.har\"}\n",
    "!hailo profiler {\"../results/models/model_ResBaGAN_discriminator_compiled_model_o4_c0.har\"}\n",
    "!hailo profiler {\"../results/models/model_ResBaGAN_discriminator_compiled_model_o4_c1.har\"}\n",
    "!hailo profiler {\"../results/models/model_ResBaGAN_discriminator_compiled_model_o4_c2.har\"}\n",
    "!hailo profiler {\"../results/models/model_ResBaGAN_discriminator_compiled_model_o4_c3.har\"}"
   ]
  },
  {
   "cell_type": "code",
   "execution_count": null,
   "id": "ef5a7cef",
   "metadata": {},
   "outputs": [],
   "source": []
  },
  {
   "cell_type": "code",
   "execution_count": null,
   "id": "93c7ee54",
   "metadata": {},
   "outputs": [],
   "source": []
  },
  {
   "cell_type": "code",
   "execution_count": null,
   "id": "c8f2e3f5",
   "metadata": {},
   "outputs": [],
   "source": []
  }
 ],
 "metadata": {
  "kernelspec": {
   "display_name": "Python [conda env:hailo_env]",
   "language": "python",
   "name": "conda-env-hailo_env-py"
  },
  "language_info": {
   "codemirror_mode": {
    "name": "ipython",
    "version": 3
   },
   "file_extension": ".py",
   "mimetype": "text/x-python",
   "name": "python",
   "nbconvert_exporter": "python",
   "pygments_lexer": "ipython3",
   "version": "3.8.20"
  }
 },
 "nbformat": 4,
 "nbformat_minor": 5
}
