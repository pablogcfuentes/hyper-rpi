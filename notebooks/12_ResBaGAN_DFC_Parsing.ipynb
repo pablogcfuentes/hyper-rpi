{
 "cells": [
  {
   "cell_type": "markdown",
   "id": "3350e6ab",
   "metadata": {},
   "source": [
    "# Fase 1.2: ResBaGAN Parser de ONNX a HAR (Hailo Archive)"
   ]
  },
  {
   "cell_type": "code",
   "execution_count": 1,
   "id": "b6054e9b",
   "metadata": {},
   "outputs": [
    {
     "name": "stderr",
     "output_type": "stream",
     "text": [
      "2025-06-05 14:09:37.350138: I tensorflow/core/platform/cpu_feature_guard.cc:182] This TensorFlow binary is optimized to use available CPU instructions in performance-critical operations.\n",
      "To enable the following instructions: AVX2 FMA, in other operations, rebuild TensorFlow with the appropriate compiler flags.\n",
      "2025-06-05 14:09:38.285879: W tensorflow/compiler/tf2tensorrt/utils/py_utils.cc:38] TF-TRT Warning: Could not find TensorRT\n"
     ]
    }
   ],
   "source": [
    "# Imports\n",
    "\n",
    "import tensorflow as tf\n",
    "from IPython.display import SVG\n",
    "\n",
    "# Import the ClientRunner class from the hailo_sdk_client package\n",
    "from hailo_sdk_client import ClientRunner\n",
    "\n",
    "import torch\n",
    "import torch.onnx\n",
    "import torch.nn as nn\n",
    "from torchvision import models"
   ]
  },
  {
   "cell_type": "markdown",
   "id": "0e44c7d4",
   "metadata": {},
   "source": [
    "## 1. Conversión de ONNX a HAR"
   ]
  },
  {
   "cell_type": "code",
   "execution_count": 3,
   "id": "29d94b13",
   "metadata": {},
   "outputs": [],
   "source": [
    "# Definición de parámetros\n",
    "\n",
    "chosen_hw_arch = \"hailo8l\"\n",
    "onnx_model_name = \"model_ResBaGAN_discriminator\"\n",
    "onnx_path = \"../results/models/model_ResBaGAN_discriminator.onnx\""
   ]
  },
  {
   "cell_type": "code",
   "execution_count": 4,
   "id": "88cce45c",
   "metadata": {},
   "outputs": [
    {
     "name": "stdout",
     "output_type": "stream",
     "text": [
      "[info] Translation started on ONNX model model_ResBaGAN_discriminator\n",
      "[info] Restored ONNX model model_ResBaGAN_discriminator (completion time: 00:00:00.04)\n",
      "[info] Extracted ONNXRuntime meta-data for Hailo model (completion time: 00:00:00.49)\n",
      "[warning] This model has non-default (reflective/edge) padding layers which are not supported currently, and were replaced with zero padding. When the padding precedes pooling layers, we expect slight degradation in the parsed model. For more info about padding modes, please refer to https://github.com/onnx/onnx/blob/main/docs/Changelog.md#pad-11\n",
      "[info] Simplified ONNX model for a parsing retry attempt (completion time: 00:00:01.60)\n",
      "[warning] This model has non-default (reflective/edge) padding layers which are not supported currently, and were replaced with zero padding. When the padding precedes pooling layers, we expect slight degradation in the parsed model. For more info about padding modes, please refer to https://github.com/onnx/onnx/blob/main/docs/Changelog.md#pad-11\n",
      "[info] Start nodes mapped from original model: 'input': 'model_ResBaGAN_discriminator/input_layer1'.\n",
      "[info] End nodes mapped from original model: '/full/Gemm', '/Reshape'.\n",
      "[info] Translation completed on ONNX model model_ResBaGAN_discriminator (completion time: 00:00:01.73)\n"
     ]
    }
   ],
   "source": [
    "# Conversión\n",
    "\n",
    "runner = ClientRunner(hw_arch=chosen_hw_arch)\n",
    "\n",
    "hn, npz = runner.translate_onnx_model(\n",
    "    onnx_path,\n",
    "    onnx_model_name,\n",
    ")"
   ]
  },
  {
   "cell_type": "code",
   "execution_count": 5,
   "id": "5ee50e90",
   "metadata": {},
   "outputs": [
    {
     "name": "stdout",
     "output_type": "stream",
     "text": [
      "[info] Saved HAR to: /home/pablo/Documentos/Enxeñaría Informática/Cuarto/2º Cuatrimestre/Traballo Fin de Grao/hyper-rpi/results/models/model_ResBaGAN_discriminator_hailo_model.har\n"
     ]
    }
   ],
   "source": [
    "# Guardar el modelo convertido\n",
    "\n",
    "hailo_model_har_name = f\"../results/models/{onnx_model_name}_hailo_model.har\"\n",
    "runner.save_har(hailo_model_har_name)"
   ]
  },
  {
   "cell_type": "code",
   "execution_count": null,
   "id": "9984acf7",
   "metadata": {},
   "outputs": [],
   "source": []
  },
  {
   "cell_type": "code",
   "execution_count": null,
   "id": "3f405efd",
   "metadata": {},
   "outputs": [],
   "source": []
  },
  {
   "cell_type": "code",
   "execution_count": null,
   "id": "d9650e9b",
   "metadata": {},
   "outputs": [],
   "source": []
  }
 ],
 "metadata": {
  "kernelspec": {
   "display_name": "Python [conda env:hailo_env]",
   "language": "python",
   "name": "conda-env-hailo_env-py"
  },
  "language_info": {
   "codemirror_mode": {
    "name": "ipython",
    "version": 3
   },
   "file_extension": ".py",
   "mimetype": "text/x-python",
   "name": "python",
   "nbconvert_exporter": "python",
   "pygments_lexer": "ipython3",
   "version": "3.8.20"
  }
 },
 "nbformat": 4,
 "nbformat_minor": 5
}
