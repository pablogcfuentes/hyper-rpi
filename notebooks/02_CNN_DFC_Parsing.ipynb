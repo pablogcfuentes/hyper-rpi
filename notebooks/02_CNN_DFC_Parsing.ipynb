{
 "cells": [
  {
   "cell_type": "markdown",
   "id": "3350e6ab",
   "metadata": {},
   "source": [
    "# Fase 0.2: CNN Parser de ONNX a HAR (Hailo Archive)"
   ]
  },
  {
   "cell_type": "code",
   "execution_count": 1,
   "id": "b6054e9b",
   "metadata": {},
   "outputs": [
    {
     "name": "stderr",
     "output_type": "stream",
     "text": [
      "2025-04-18 00:47:20.120344: I tensorflow/tsl/cuda/cudart_stub.cc:28] Could not find cuda drivers on your machine, GPU will not be used.\n",
      "2025-04-18 00:47:20.153632: I tensorflow/tsl/cuda/cudart_stub.cc:28] Could not find cuda drivers on your machine, GPU will not be used.\n",
      "2025-04-18 00:47:20.154230: I tensorflow/core/platform/cpu_feature_guard.cc:182] This TensorFlow binary is optimized to use available CPU instructions in performance-critical operations.\n",
      "To enable the following instructions: AVX2 FMA, in other operations, rebuild TensorFlow with the appropriate compiler flags.\n",
      "2025-04-18 00:47:20.808171: W tensorflow/compiler/tf2tensorrt/utils/py_utils.cc:38] TF-TRT Warning: Could not find TensorRT\n"
     ]
    }
   ],
   "source": [
    "# Imports\n",
    "\n",
    "import tensorflow as tf\n",
    "from IPython.display import SVG\n",
    "\n",
    "# Import the ClientRunner class from the hailo_sdk_client package\n",
    "from hailo_sdk_client import ClientRunner\n",
    "\n",
    "import torch\n",
    "import torch.onnx\n",
    "import torch.nn as nn\n",
    "from torchvision import models"
   ]
  },
  {
   "cell_type": "markdown",
   "id": "0e44c7d4",
   "metadata": {},
   "source": [
    "## 1. Conversión de ONNX a HAR"
   ]
  },
  {
   "cell_type": "code",
   "execution_count": 2,
   "id": "29d94b13",
   "metadata": {},
   "outputs": [],
   "source": [
    "# Definición de parámetros\n",
    "\n",
    "chosen_hw_arch = \"hailo8l\"\n",
    "onnx_model_name = \"model_cnn21\"\n",
    "onnx_path = \"../results/models/model_cnn21.onnx\""
   ]
  },
  {
   "cell_type": "code",
   "execution_count": 3,
   "id": "88cce45c",
   "metadata": {},
   "outputs": [
    {
     "name": "stdout",
     "output_type": "stream",
     "text": [
      "[info] Translation started on ONNX model model_cnn21\n",
      "[info] Restored ONNX model model_cnn21 (completion time: 00:00:00.01)\n",
      "[info] Extracted ONNXRuntime meta-data for Hailo model (completion time: 00:00:00.03)\n",
      "[info] Start nodes mapped from original model: 'input': 'model_cnn21/input_layer1'.\n",
      "[info] End nodes mapped from original model: '/fc/Gemm'.\n",
      "[info] Translation completed on ONNX model model_cnn21 (completion time: 00:00:00.09)\n"
     ]
    }
   ],
   "source": [
    "# Conversión\n",
    "\n",
    "runner = ClientRunner(hw_arch=chosen_hw_arch)\n",
    "\n",
    "hn, npz = runner.translate_onnx_model(\n",
    "    onnx_path,\n",
    "    onnx_model_name,\n",
    ")"
   ]
  },
  {
   "cell_type": "code",
   "execution_count": 4,
   "id": "5ee50e90",
   "metadata": {},
   "outputs": [
    {
     "name": "stdout",
     "output_type": "stream",
     "text": [
      "[info] Saved HAR to: /home/pablo/Documentos/Enxeñaría Informática/Cuarto/2º Cuatrimestre/Traballo Fin de Grao/Proyecto/results/model_cnn21_hailo_model.har\n"
     ]
    }
   ],
   "source": [
    "# Guardar el modelo convertido\n",
    "\n",
    "hailo_model_har_name = f\"../results/models/{onnx_model_name}_hailo_model.har\"\n",
    "runner.save_har(hailo_model_har_name)"
   ]
  },
  {
   "cell_type": "code",
   "execution_count": null,
   "id": "9984acf7",
   "metadata": {},
   "outputs": [],
   "source": []
  },
  {
   "cell_type": "code",
   "execution_count": null,
   "id": "3f405efd",
   "metadata": {},
   "outputs": [],
   "source": []
  },
  {
   "cell_type": "code",
   "execution_count": null,
   "id": "d9650e9b",
   "metadata": {},
   "outputs": [],
   "source": []
  }
 ],
 "metadata": {
  "kernelspec": {
   "display_name": "Python [conda env:hailo_env]",
   "language": "python",
   "name": "conda-env-hailo_env-py"
  },
  "language_info": {
   "codemirror_mode": {
    "name": "ipython",
    "version": 3
   },
   "file_extension": ".py",
   "mimetype": "text/x-python",
   "name": "python",
   "nbconvert_exporter": "python",
   "pygments_lexer": "ipython3",
   "version": "3.8.20"
  }
 },
 "nbformat": 4,
 "nbformat_minor": 5
}
