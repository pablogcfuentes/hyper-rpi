{
 "cells": [
  {
   "cell_type": "markdown",
   "id": "3350e6ab",
   "metadata": {},
   "source": [
    "# Fase 1.3: ResBaGAN Parser de ONNX a HAR (Hailo Archive)"
   ]
  },
  {
   "cell_type": "code",
   "execution_count": null,
   "id": "b6054e9b",
   "metadata": {},
   "outputs": [],
   "source": [
    "# Imports\n",
    "\n",
    "import tensorflow as tf\n",
    "from IPython.display import SVG\n",
    "\n",
    "# Import the ClientRunner class from the hailo_sdk_client package\n",
    "from hailo_sdk_client import ClientRunner\n",
    "\n",
    "import torch\n",
    "import torch.onnx\n",
    "import torch.nn as nn\n",
    "from torchvision import models"
   ]
  },
  {
   "cell_type": "markdown",
   "id": "0e44c7d4",
   "metadata": {},
   "source": [
    "## 1. Conversión de ONNX a HAR"
   ]
  },
  {
   "cell_type": "code",
   "execution_count": null,
   "id": "29d94b13",
   "metadata": {},
   "outputs": [],
   "source": [
    "# Definición de parámetros\n",
    "\n",
    "chosen_hw_arch = \"hailo8l\"\n",
    "onnx_model_name = \"model_ResBaGAN_discriminator\"\n",
    "onnx_path = \"../results/models/model_ResBaGAN_discriminator.onnx\""
   ]
  },
  {
   "cell_type": "code",
   "execution_count": null,
   "id": "88cce45c",
   "metadata": {},
   "outputs": [],
   "source": [
    "# Conversión\n",
    "\n",
    "runner = ClientRunner(hw_arch=chosen_hw_arch)\n",
    "\n",
    "hn, npz = runner.translate_onnx_model(\n",
    "    onnx_path,\n",
    "    onnx_model_name,\n",
    ")"
   ]
  },
  {
   "cell_type": "code",
   "execution_count": null,
   "id": "5ee50e90",
   "metadata": {},
   "outputs": [],
   "source": [
    "# Guardar el modelo convertido\n",
    "\n",
    "hailo_model_har_name = f\"../results/models/{onnx_model_name}_hailo_model.har\"\n",
    "runner.save_har(hailo_model_har_name)"
   ]
  },
  {
   "cell_type": "code",
   "execution_count": null,
   "id": "9984acf7",
   "metadata": {},
   "outputs": [],
   "source": []
  },
  {
   "cell_type": "code",
   "execution_count": null,
   "id": "3f405efd",
   "metadata": {},
   "outputs": [],
   "source": []
  },
  {
   "cell_type": "code",
   "execution_count": null,
   "id": "d9650e9b",
   "metadata": {},
   "outputs": [],
   "source": []
  }
 ],
 "metadata": {
  "kernelspec": {
   "display_name": "Python [conda env:hailo_env]",
   "language": "python",
   "name": "conda-env-hailo_env-py"
  },
  "language_info": {
   "codemirror_mode": {
    "name": "ipython",
    "version": 3
   },
   "file_extension": ".py",
   "mimetype": "text/x-python",
   "name": "python",
   "nbconvert_exporter": "python",
   "pygments_lexer": "ipython3",
   "version": "3.8.20"
  }
 },
 "nbformat": 4,
 "nbformat_minor": 5
}
